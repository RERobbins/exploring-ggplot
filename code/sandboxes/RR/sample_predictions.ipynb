{
  "cells": [
    {
      "cell_type": "markdown",
      "metadata": {
        "id": "view-in-github",
        "colab_type": "text"
      },
      "source": [
        "<a href=\"https://colab.research.google.com/github/RERobbins/exploring-ggplot/blob/main/code/sandboxes/RR/sample_predictions.ipynb\" target=\"_parent\"><img src=\"https://colab.research.google.com/assets/colab-badge.svg\" alt=\"Open In Colab\"/></a>"
      ]
    },
    {
      "cell_type": "code",
      "execution_count": 1,
      "metadata": {
        "colab": {
          "base_uri": "https://localhost:8080/"
        },
        "id": "17N1XaF7d6dW",
        "outputId": "b0f910d5-b4c9-4e54-be5a-dbdb2e0b7796"
      },
      "outputs": [
        {
          "output_type": "stream",
          "name": "stdout",
          "text": [
            "Mounted at /content/drive\n"
          ]
        }
      ],
      "source": [
        "from google.colab import drive\n",
        "drive.mount('/content/drive')"
      ]
    },
    {
      "cell_type": "code",
      "execution_count": 2,
      "metadata": {
        "id": "3jvE9TJRd4cG"
      },
      "outputs": [],
      "source": [
        "import os\n",
        "import glob\n",
        "import numpy as np\n",
        "import pandas as pd\n",
        "\n",
        "#from google.colab import data_table\n",
        "#data_table.enable_dataframe_formatter()"
      ]
    },
    {
      "cell_type": "code",
      "execution_count": 3,
      "metadata": {
        "id": "iMHoUiDnd9He"
      },
      "outputs": [],
      "source": [
        "# Some important file locations and constants\n",
        "\n",
        "project_root = \"/content/drive/MyDrive/w266 NLP Final Project/\"\n",
        "prediction_folder = project_root + \"Predictions/checkpoint/\"\n",
        "data_folder = project_root + \"Data/\"\n",
        "processed_folder = project_root + \"Predictions/\"\n",
        "\n",
        "datasets = ['nq', 'quac', 'squad.hf', 'triviaqa']\n",
        "\n",
        "validation_set_size = {}"
      ]
    },
    {
      "cell_type": "code",
      "source": [
        "for dataset in datasets:\n",
        "  df = pd.read_csv(f\"{data_folder}{dataset}/valid_pairs.csv\")\n",
        "  validation_set_size [dataset.split(\".\")[0]] = df.shape[0]"
      ],
      "metadata": {
        "id": "_oLDdfxlbSrT"
      },
      "execution_count": 4,
      "outputs": []
    },
    {
      "cell_type": "code",
      "source": [
        "validation_set_size"
      ],
      "metadata": {
        "id": "Qc76Hn1Vbpxt",
        "outputId": "08ac975a-2757-413f-96f5-7ae5bc33f23d",
        "colab": {
          "base_uri": "https://localhost:8080/"
        }
      },
      "execution_count": 5,
      "outputs": [
        {
          "output_type": "execute_result",
          "data": {
            "text/plain": [
              "{'nq': 2356, 'quac': 5868, 'squad': 10570, 'triviaqa': 9835}"
            ]
          },
          "metadata": {},
          "execution_count": 5
        }
      ]
    },
    {
      "cell_type": "code",
      "execution_count": 6,
      "metadata": {
        "id": "dqiY1wv-dxLx"
      },
      "outputs": [],
      "source": [
        "file_list = glob.glob(prediction_folder + \"*amalgam*.csv\")"
      ]
    },
    {
      "cell_type": "code",
      "execution_count": 7,
      "metadata": {
        "id": "UHTIt4vpONUk",
        "outputId": "cdda52be-5e2f-4b9a-9964-e13bbabeb856",
        "colab": {
          "base_uri": "https://localhost:8080/"
        }
      },
      "outputs": [
        {
          "output_type": "execute_result",
          "data": {
            "text/plain": [
              "['/content/drive/MyDrive/w266 NLP Final Project/Predictions/checkpoint/predictions.bart_base_pt_long.amalgam.nq.csv',\n",
              " '/content/drive/MyDrive/w266 NLP Final Project/Predictions/checkpoint/predictions.bart_base_pt_long.amalgam.quac.csv',\n",
              " '/content/drive/MyDrive/w266 NLP Final Project/Predictions/checkpoint/predictions.bart_base_pt_long.amalgam.squad.csv',\n",
              " '/content/drive/MyDrive/w266 NLP Final Project/Predictions/checkpoint/predictions.bart_base_pt_long.amalgam.triviaqa.csv',\n",
              " '/content/drive/MyDrive/w266 NLP Final Project/Predictions/checkpoint/predictions.T5_base_pt_long.amalgam.nq.csv',\n",
              " '/content/drive/MyDrive/w266 NLP Final Project/Predictions/checkpoint/predictions.T5_base_pt_long.amalgam.quac.csv',\n",
              " '/content/drive/MyDrive/w266 NLP Final Project/Predictions/checkpoint/predictions.T5_base_pt_long.amalgam.squad.csv',\n",
              " '/content/drive/MyDrive/w266 NLP Final Project/Predictions/checkpoint/predictions.T5_base_pt_long.amalgam.triviaqa.csv']"
            ]
          },
          "metadata": {},
          "execution_count": 7
        }
      ],
      "source": [
        "file_list"
      ]
    },
    {
      "cell_type": "code",
      "source": [
        "len(file_list)"
      ],
      "metadata": {
        "colab": {
          "base_uri": "https://localhost:8080/"
        },
        "id": "ic-R-RJiDU7q",
        "outputId": "e8f06b91-d0b6-41a8-b000-43093aaa7314"
      },
      "execution_count": 8,
      "outputs": [
        {
          "output_type": "execute_result",
          "data": {
            "text/plain": [
              "8"
            ]
          },
          "metadata": {},
          "execution_count": 8
        }
      ]
    },
    {
      "cell_type": "code",
      "execution_count": 9,
      "metadata": {
        "id": "0zljTLBVONUl",
        "outputId": "0335f692-e0a1-4f9b-a742-b2d5407c9d55",
        "colab": {
          "base_uri": "https://localhost:8080/",
          "height": 300
        }
      },
      "outputs": [
        {
          "output_type": "execute_result",
          "data": {
            "text/plain": [
              "                                                name  count\n",
              "0       predictions.bart_base_pt_long.amalgam.nq.csv   2356\n",
              "4         predictions.T5_base_pt_long.amalgam.nq.csv   2356\n",
              "1     predictions.bart_base_pt_long.amalgam.quac.csv   5868\n",
              "5       predictions.T5_base_pt_long.amalgam.quac.csv   5868\n",
              "3  predictions.bart_base_pt_long.amalgam.triviaqa...   9835\n",
              "7   predictions.T5_base_pt_long.amalgam.triviaqa.csv   9835\n",
              "2    predictions.bart_base_pt_long.amalgam.squad.csv  10570\n",
              "6      predictions.T5_base_pt_long.amalgam.squad.csv  10570"
            ],
            "text/html": [
              "\n",
              "  <div id=\"df-fd6c4462-a205-45e5-9ad7-ff5122e34757\">\n",
              "    <div class=\"colab-df-container\">\n",
              "      <div>\n",
              "<style scoped>\n",
              "    .dataframe tbody tr th:only-of-type {\n",
              "        vertical-align: middle;\n",
              "    }\n",
              "\n",
              "    .dataframe tbody tr th {\n",
              "        vertical-align: top;\n",
              "    }\n",
              "\n",
              "    .dataframe thead th {\n",
              "        text-align: right;\n",
              "    }\n",
              "</style>\n",
              "<table border=\"1\" class=\"dataframe\">\n",
              "  <thead>\n",
              "    <tr style=\"text-align: right;\">\n",
              "      <th></th>\n",
              "      <th>name</th>\n",
              "      <th>count</th>\n",
              "    </tr>\n",
              "  </thead>\n",
              "  <tbody>\n",
              "    <tr>\n",
              "      <th>0</th>\n",
              "      <td>predictions.bart_base_pt_long.amalgam.nq.csv</td>\n",
              "      <td>2356</td>\n",
              "    </tr>\n",
              "    <tr>\n",
              "      <th>4</th>\n",
              "      <td>predictions.T5_base_pt_long.amalgam.nq.csv</td>\n",
              "      <td>2356</td>\n",
              "    </tr>\n",
              "    <tr>\n",
              "      <th>1</th>\n",
              "      <td>predictions.bart_base_pt_long.amalgam.quac.csv</td>\n",
              "      <td>5868</td>\n",
              "    </tr>\n",
              "    <tr>\n",
              "      <th>5</th>\n",
              "      <td>predictions.T5_base_pt_long.amalgam.quac.csv</td>\n",
              "      <td>5868</td>\n",
              "    </tr>\n",
              "    <tr>\n",
              "      <th>3</th>\n",
              "      <td>predictions.bart_base_pt_long.amalgam.triviaqa...</td>\n",
              "      <td>9835</td>\n",
              "    </tr>\n",
              "    <tr>\n",
              "      <th>7</th>\n",
              "      <td>predictions.T5_base_pt_long.amalgam.triviaqa.csv</td>\n",
              "      <td>9835</td>\n",
              "    </tr>\n",
              "    <tr>\n",
              "      <th>2</th>\n",
              "      <td>predictions.bart_base_pt_long.amalgam.squad.csv</td>\n",
              "      <td>10570</td>\n",
              "    </tr>\n",
              "    <tr>\n",
              "      <th>6</th>\n",
              "      <td>predictions.T5_base_pt_long.amalgam.squad.csv</td>\n",
              "      <td>10570</td>\n",
              "    </tr>\n",
              "  </tbody>\n",
              "</table>\n",
              "</div>\n",
              "      <button class=\"colab-df-convert\" onclick=\"convertToInteractive('df-fd6c4462-a205-45e5-9ad7-ff5122e34757')\"\n",
              "              title=\"Convert this dataframe to an interactive table.\"\n",
              "              style=\"display:none;\">\n",
              "        \n",
              "  <svg xmlns=\"http://www.w3.org/2000/svg\" height=\"24px\"viewBox=\"0 0 24 24\"\n",
              "       width=\"24px\">\n",
              "    <path d=\"M0 0h24v24H0V0z\" fill=\"none\"/>\n",
              "    <path d=\"M18.56 5.44l.94 2.06.94-2.06 2.06-.94-2.06-.94-.94-2.06-.94 2.06-2.06.94zm-11 1L8.5 8.5l.94-2.06 2.06-.94-2.06-.94L8.5 2.5l-.94 2.06-2.06.94zm10 10l.94 2.06.94-2.06 2.06-.94-2.06-.94-.94-2.06-.94 2.06-2.06.94z\"/><path d=\"M17.41 7.96l-1.37-1.37c-.4-.4-.92-.59-1.43-.59-.52 0-1.04.2-1.43.59L10.3 9.45l-7.72 7.72c-.78.78-.78 2.05 0 2.83L4 21.41c.39.39.9.59 1.41.59.51 0 1.02-.2 1.41-.59l7.78-7.78 2.81-2.81c.8-.78.8-2.07 0-2.86zM5.41 20L4 18.59l7.72-7.72 1.47 1.35L5.41 20z\"/>\n",
              "  </svg>\n",
              "      </button>\n",
              "      \n",
              "  <style>\n",
              "    .colab-df-container {\n",
              "      display:flex;\n",
              "      flex-wrap:wrap;\n",
              "      gap: 12px;\n",
              "    }\n",
              "\n",
              "    .colab-df-convert {\n",
              "      background-color: #E8F0FE;\n",
              "      border: none;\n",
              "      border-radius: 50%;\n",
              "      cursor: pointer;\n",
              "      display: none;\n",
              "      fill: #1967D2;\n",
              "      height: 32px;\n",
              "      padding: 0 0 0 0;\n",
              "      width: 32px;\n",
              "    }\n",
              "\n",
              "    .colab-df-convert:hover {\n",
              "      background-color: #E2EBFA;\n",
              "      box-shadow: 0px 1px 2px rgba(60, 64, 67, 0.3), 0px 1px 3px 1px rgba(60, 64, 67, 0.15);\n",
              "      fill: #174EA6;\n",
              "    }\n",
              "\n",
              "    [theme=dark] .colab-df-convert {\n",
              "      background-color: #3B4455;\n",
              "      fill: #D2E3FC;\n",
              "    }\n",
              "\n",
              "    [theme=dark] .colab-df-convert:hover {\n",
              "      background-color: #434B5C;\n",
              "      box-shadow: 0px 1px 3px 1px rgba(0, 0, 0, 0.15);\n",
              "      filter: drop-shadow(0px 1px 2px rgba(0, 0, 0, 0.3));\n",
              "      fill: #FFFFFF;\n",
              "    }\n",
              "  </style>\n",
              "\n",
              "      <script>\n",
              "        const buttonEl =\n",
              "          document.querySelector('#df-fd6c4462-a205-45e5-9ad7-ff5122e34757 button.colab-df-convert');\n",
              "        buttonEl.style.display =\n",
              "          google.colab.kernel.accessAllowed ? 'block' : 'none';\n",
              "\n",
              "        async function convertToInteractive(key) {\n",
              "          const element = document.querySelector('#df-fd6c4462-a205-45e5-9ad7-ff5122e34757');\n",
              "          const dataTable =\n",
              "            await google.colab.kernel.invokeFunction('convertToInteractive',\n",
              "                                                     [key], {});\n",
              "          if (!dataTable) return;\n",
              "\n",
              "          const docLinkHtml = 'Like what you see? Visit the ' +\n",
              "            '<a target=\"_blank\" href=https://colab.research.google.com/notebooks/data_table.ipynb>data table notebook</a>'\n",
              "            + ' to learn more about interactive tables.';\n",
              "          element.innerHTML = '';\n",
              "          dataTable['output_type'] = 'display_data';\n",
              "          await google.colab.output.renderOutput(dataTable, element);\n",
              "          const docLink = document.createElement('div');\n",
              "          docLink.innerHTML = docLinkHtml;\n",
              "          element.appendChild(docLink);\n",
              "        }\n",
              "      </script>\n",
              "    </div>\n",
              "  </div>\n",
              "  "
            ]
          },
          "metadata": {},
          "execution_count": 9
        }
      ],
      "source": [
        "df = pd.DataFrame([(os.path.basename(x), len (pd.read_csv(x))) for x in file_list], columns=['name', 'count']).sort_values(by=['count'])\n",
        "df"
      ]
    },
    {
      "cell_type": "code",
      "source": [
        "for name in file_list:\n",
        "  df = pd.read_csv(name)\n",
        "  df = df.replace(r'^\\s*$', np.nan, regex=True)\n",
        "  count = df['prediction'].isna().sum()\n",
        "  if count > 0:\n",
        "    print (f\"{os.path.basename(name)} empty predictions: {count}\")"
      ],
      "metadata": {
        "id": "LZ6zCvyTknuE"
      },
      "execution_count": 10,
      "outputs": []
    },
    {
      "cell_type": "code",
      "source": [
        "for file in file_list:\n",
        "  model, training, validation = os.path.basename(file).split(\".\")[1:4]\n",
        "  df = pd.read_csv(file)\n",
        "  print (f\"{model} {training} validation {validation}\", end=\" \")\n",
        "  if df.shape[0]==validation_set_size[validation]:\n",
        "    print (\"proper length\")\n",
        "  else:\n",
        "    print (\"BAD LENGTH\")  "
      ],
      "metadata": {
        "id": "JJH1EhsHVdE8",
        "outputId": "92220c07-2b2b-44aa-e896-626160080d96",
        "colab": {
          "base_uri": "https://localhost:8080/"
        }
      },
      "execution_count": 11,
      "outputs": [
        {
          "output_type": "stream",
          "name": "stdout",
          "text": [
            "bart_base_pt_long amalgam validation nq proper length\n",
            "bart_base_pt_long amalgam validation quac proper length\n",
            "bart_base_pt_long amalgam validation squad proper length\n",
            "bart_base_pt_long amalgam validation triviaqa proper length\n",
            "T5_base_pt_long amalgam validation nq proper length\n",
            "T5_base_pt_long amalgam validation quac proper length\n",
            "T5_base_pt_long amalgam validation squad proper length\n",
            "T5_base_pt_long amalgam validation triviaqa proper length\n"
          ]
        }
      ]
    },
    {
      "cell_type": "code",
      "source": [
        "for file in file_list:\n",
        "  df = pd.read_csv(file, usecols=['context', 'answer', 'target', 'prediction'])\n",
        "  df = df.replace(r'^\\s*$', np.nan, regex=True)\n",
        "  df['prediction'] = df['prediction'].fillna('NO PREDICTION MADE')\n",
        "  output_file = f\"{processed_folder}{os.path.basename(file)}\"\n",
        "  df.to_csv(output_file, index=False)"
      ],
      "metadata": {
        "id": "f3sglDJsfFGY"
      },
      "execution_count": 12,
      "outputs": []
    },
    {
      "cell_type": "code",
      "source": [
        "for file in file_list:\n",
        "  model, training, validation = os.path.basename(file).split(\".\")[1:4]\n",
        "  test_file = f\"{processed_folder}{os.path.basename(file)}\"\n",
        "  df = pd.read_csv(test_file)\n",
        "  print(df.keys())"
      ],
      "metadata": {
        "colab": {
          "base_uri": "https://localhost:8080/"
        },
        "id": "VWh2EGovmCjw",
        "outputId": "d3057f0d-4b60-4d3d-8792-c73b8e1b4a58"
      },
      "execution_count": 13,
      "outputs": [
        {
          "output_type": "stream",
          "name": "stdout",
          "text": [
            "Index(['context', 'answer', 'target', 'prediction'], dtype='object')\n",
            "Index(['context', 'answer', 'target', 'prediction'], dtype='object')\n",
            "Index(['context', 'answer', 'target', 'prediction'], dtype='object')\n",
            "Index(['context', 'answer', 'target', 'prediction'], dtype='object')\n",
            "Index(['context', 'answer', 'target', 'prediction'], dtype='object')\n",
            "Index(['context', 'answer', 'target', 'prediction'], dtype='object')\n",
            "Index(['context', 'answer', 'target', 'prediction'], dtype='object')\n",
            "Index(['context', 'answer', 'target', 'prediction'], dtype='object')\n"
          ]
        }
      ]
    },
    {
      "cell_type": "code",
      "source": [
        "for file in file_list:\n",
        "  model, training, validation = os.path.basename(file).split(\".\")[1:4]\n",
        "  test_file = f\"{processed_folder}{os.path.basename(file)}\"\n",
        "  df = pd.read_csv(test_file)\n",
        "  df = df[df['prediction'] == \"NO PREDICTION MADE\"]\n",
        "  if df.shape[0]: \n",
        "    print (test_file, df.shape[0])\n",
        "    print (df.index)"
      ],
      "metadata": {
        "id": "6eRyrFoqpo5c"
      },
      "execution_count": 14,
      "outputs": []
    },
    {
      "cell_type": "code",
      "source": [
        "from google.colab import data_table\n",
        "data_table.enable_dataframe_formatter()"
      ],
      "metadata": {
        "id": "XlpS46ntu57D"
      },
      "execution_count": 15,
      "outputs": []
    },
    {
      "cell_type": "code",
      "source": [
        "file_list = glob.glob(processed_folder + \"*amalgam*quac.csv\")"
      ],
      "metadata": {
        "id": "aKI5tZ0TvElX"
      },
      "execution_count": 29,
      "outputs": []
    },
    {
      "cell_type": "code",
      "source": [
        "file_list"
      ],
      "metadata": {
        "id": "gYbXxVMsvHH8",
        "outputId": "44257191-8d1f-47cf-be79-929ce1de5e51",
        "colab": {
          "base_uri": "https://localhost:8080/"
        }
      },
      "execution_count": 30,
      "outputs": [
        {
          "output_type": "execute_result",
          "data": {
            "text/plain": [
              "['/content/drive/MyDrive/w266 NLP Final Project/Predictions/predictions.bart_base_pt_long.amalgam.quac.csv',\n",
              " '/content/drive/MyDrive/w266 NLP Final Project/Predictions/predictions.T5_base_pt_long.amalgam.quac.csv']"
            ]
          },
          "metadata": {},
          "execution_count": 30
        }
      ]
    },
    {
      "cell_type": "code",
      "source": [
        "sample_size = 10"
      ],
      "metadata": {
        "id": "bouyH4WzvH6S"
      },
      "execution_count": 31,
      "outputs": []
    },
    {
      "cell_type": "code",
      "source": [
        "import random\n",
        "result = random.sample(range(0, 5868), 20)\n",
        "result"
      ],
      "metadata": {
        "id": "yWDm6CFM0BHp",
        "outputId": "9723673b-072c-44b5-b4f8-ba80588db64c",
        "colab": {
          "base_uri": "https://localhost:8080/"
        }
      },
      "execution_count": 44,
      "outputs": [
        {
          "output_type": "execute_result",
          "data": {
            "text/plain": [
              "[978,\n",
              " 3710,\n",
              " 5796,\n",
              " 1487,\n",
              " 1728,\n",
              " 2181,\n",
              " 3608,\n",
              " 5219,\n",
              " 5186,\n",
              " 2369,\n",
              " 3102,\n",
              " 2004,\n",
              " 45,\n",
              " 5390,\n",
              " 2009,\n",
              " 5375,\n",
              " 5017,\n",
              " 4485,\n",
              " 5185,\n",
              " 5033]"
            ]
          },
          "metadata": {},
          "execution_count": 44
        }
      ]
    },
    {
      "cell_type": "code",
      "source": [
        "df_1 = pd.read_csv(file_list[0]).iloc[result][['target', 'prediction']]\n",
        "df_2 = pd.read_csv(file_list[1]).iloc[result][['target', 'prediction']]"
      ],
      "metadata": {
        "id": "BCxgMNtTvU0o"
      },
      "execution_count": 45,
      "outputs": []
    },
    {
      "cell_type": "code",
      "source": [
        "df_1"
      ],
      "metadata": {
        "id": "Cc03S2tqvrb9",
        "outputId": "84497fc1-07f8-460b-847d-2519c6cb1c23",
        "colab": {
          "base_uri": "https://localhost:8080/",
          "height": 520
        }
      },
      "execution_count": 46,
      "outputs": [
        {
          "output_type": "execute_result",
          "data": {
            "text/plain": [
              "                                                 target  \\\n",
              "978                         Has he received any awards?   \n",
              "3710                  Why did Hamilton leave the group?   \n",
              "5796  Did the other members continue with their musi...   \n",
              "1487                          Were these songs popular?   \n",
              "1728                What happened after the conversion?   \n",
              "2181  Besides that, were there other projects in the...   \n",
              "3608      Which of their albums did the best with fans?   \n",
              "5219                         what did he do in england?   \n",
              "5186      What is something interesting about his life?   \n",
              "2369        What happened with the July budget in 2015?   \n",
              "3102                 What other bands did they inspire?   \n",
              "2004  What is stella and charlie friends forever about?   \n",
              "45    What was one of Ngo Dinh Diem's most famous so...   \n",
              "5390  Were there other claims or comments made about...   \n",
              "2009                   What was significant about this?   \n",
              "5375                                What happen in 1985   \n",
              "5017              When did she begin on the Cosby show?   \n",
              "4485       When did he join the Portland Trailblazers ?   \n",
              "5185                               what was the change?   \n",
              "5033  Are there any other interesting aspects about ...   \n",
              "\n",
              "                                             prediction  \n",
              "978                Did he win any awards for his music?  \n",
              "3710          Why did the group take an extended break?  \n",
              "5796      What was the name of the band formed in 1995?  \n",
              "1487               How did the single do on the charts?  \n",
              "1728  What restrictions did the Roman Catholic Relie...  \n",
              "2181                  Did she do anything else in 1980?  \n",
              "3608                      Did the album win any awards?  \n",
              "5219  How much did the king pay for the house he liv...  \n",
              "5186                       Where was Robert Fripp born?  \n",
              "2369  Are there any other interesting aspects about ...  \n",
              "3102  Are there any other interesting aspects about ...  \n",
              "2004   what is stella and charlie friends forever about  \n",
              "45              What did Diem do during his presidency?  \n",
              "5390   What did Vikernes say about the church burnings?  \n",
              "2009       What was the Irish National Theatre Society?  \n",
              "5375                        When did Guns N Roses form?  \n",
              "5017  How old was Raven-Symone when she auditioned f...  \n",
              "4485      when did leonard walton join the trailblazers  \n",
              "5185     When did the term indigenous begin to be used?  \n",
              "5033  Are there any other interesting aspects about ...  "
            ],
            "text/html": [
              "\n",
              "  <div id=\"df-82030e25-e78c-4a1f-860b-a215a4a73f25\">\n",
              "    <div class=\"colab-df-container\">\n",
              "      <div>\n",
              "<style scoped>\n",
              "    .dataframe tbody tr th:only-of-type {\n",
              "        vertical-align: middle;\n",
              "    }\n",
              "\n",
              "    .dataframe tbody tr th {\n",
              "        vertical-align: top;\n",
              "    }\n",
              "\n",
              "    .dataframe thead th {\n",
              "        text-align: right;\n",
              "    }\n",
              "</style>\n",
              "<table border=\"1\" class=\"dataframe\">\n",
              "  <thead>\n",
              "    <tr style=\"text-align: right;\">\n",
              "      <th></th>\n",
              "      <th>target</th>\n",
              "      <th>prediction</th>\n",
              "    </tr>\n",
              "  </thead>\n",
              "  <tbody>\n",
              "    <tr>\n",
              "      <th>978</th>\n",
              "      <td>Has he received any awards?</td>\n",
              "      <td>Did he win any awards for his music?</td>\n",
              "    </tr>\n",
              "    <tr>\n",
              "      <th>3710</th>\n",
              "      <td>Why did Hamilton leave the group?</td>\n",
              "      <td>Why did the group take an extended break?</td>\n",
              "    </tr>\n",
              "    <tr>\n",
              "      <th>5796</th>\n",
              "      <td>Did the other members continue with their musi...</td>\n",
              "      <td>What was the name of the band formed in 1995?</td>\n",
              "    </tr>\n",
              "    <tr>\n",
              "      <th>1487</th>\n",
              "      <td>Were these songs popular?</td>\n",
              "      <td>How did the single do on the charts?</td>\n",
              "    </tr>\n",
              "    <tr>\n",
              "      <th>1728</th>\n",
              "      <td>What happened after the conversion?</td>\n",
              "      <td>What restrictions did the Roman Catholic Relie...</td>\n",
              "    </tr>\n",
              "    <tr>\n",
              "      <th>2181</th>\n",
              "      <td>Besides that, were there other projects in the...</td>\n",
              "      <td>Did she do anything else in 1980?</td>\n",
              "    </tr>\n",
              "    <tr>\n",
              "      <th>3608</th>\n",
              "      <td>Which of their albums did the best with fans?</td>\n",
              "      <td>Did the album win any awards?</td>\n",
              "    </tr>\n",
              "    <tr>\n",
              "      <th>5219</th>\n",
              "      <td>what did he do in england?</td>\n",
              "      <td>How much did the king pay for the house he liv...</td>\n",
              "    </tr>\n",
              "    <tr>\n",
              "      <th>5186</th>\n",
              "      <td>What is something interesting about his life?</td>\n",
              "      <td>Where was Robert Fripp born?</td>\n",
              "    </tr>\n",
              "    <tr>\n",
              "      <th>2369</th>\n",
              "      <td>What happened with the July budget in 2015?</td>\n",
              "      <td>Are there any other interesting aspects about ...</td>\n",
              "    </tr>\n",
              "    <tr>\n",
              "      <th>3102</th>\n",
              "      <td>What other bands did they inspire?</td>\n",
              "      <td>Are there any other interesting aspects about ...</td>\n",
              "    </tr>\n",
              "    <tr>\n",
              "      <th>2004</th>\n",
              "      <td>What is stella and charlie friends forever about?</td>\n",
              "      <td>what is stella and charlie friends forever about</td>\n",
              "    </tr>\n",
              "    <tr>\n",
              "      <th>45</th>\n",
              "      <td>What was one of Ngo Dinh Diem's most famous so...</td>\n",
              "      <td>What did Diem do during his presidency?</td>\n",
              "    </tr>\n",
              "    <tr>\n",
              "      <th>5390</th>\n",
              "      <td>Were there other claims or comments made about...</td>\n",
              "      <td>What did Vikernes say about the church burnings?</td>\n",
              "    </tr>\n",
              "    <tr>\n",
              "      <th>2009</th>\n",
              "      <td>What was significant about this?</td>\n",
              "      <td>What was the Irish National Theatre Society?</td>\n",
              "    </tr>\n",
              "    <tr>\n",
              "      <th>5375</th>\n",
              "      <td>What happen in 1985</td>\n",
              "      <td>When did Guns N Roses form?</td>\n",
              "    </tr>\n",
              "    <tr>\n",
              "      <th>5017</th>\n",
              "      <td>When did she begin on the Cosby show?</td>\n",
              "      <td>How old was Raven-Symone when she auditioned f...</td>\n",
              "    </tr>\n",
              "    <tr>\n",
              "      <th>4485</th>\n",
              "      <td>When did he join the Portland Trailblazers ?</td>\n",
              "      <td>when did leonard walton join the trailblazers</td>\n",
              "    </tr>\n",
              "    <tr>\n",
              "      <th>5185</th>\n",
              "      <td>what was the change?</td>\n",
              "      <td>When did the term indigenous begin to be used?</td>\n",
              "    </tr>\n",
              "    <tr>\n",
              "      <th>5033</th>\n",
              "      <td>Are there any other interesting aspects about ...</td>\n",
              "      <td>Are there any other interesting aspects about ...</td>\n",
              "    </tr>\n",
              "  </tbody>\n",
              "</table>\n",
              "</div>\n",
              "      <button class=\"colab-df-convert\" onclick=\"convertToInteractive('df-82030e25-e78c-4a1f-860b-a215a4a73f25')\"\n",
              "              title=\"Convert this dataframe to an interactive table.\"\n",
              "              style=\"display:none;\">\n",
              "        \n",
              "  <svg xmlns=\"http://www.w3.org/2000/svg\" height=\"24px\"viewBox=\"0 0 24 24\"\n",
              "       width=\"24px\">\n",
              "    <path d=\"M0 0h24v24H0V0z\" fill=\"none\"/>\n",
              "    <path d=\"M18.56 5.44l.94 2.06.94-2.06 2.06-.94-2.06-.94-.94-2.06-.94 2.06-2.06.94zm-11 1L8.5 8.5l.94-2.06 2.06-.94-2.06-.94L8.5 2.5l-.94 2.06-2.06.94zm10 10l.94 2.06.94-2.06 2.06-.94-2.06-.94-.94-2.06-.94 2.06-2.06.94z\"/><path d=\"M17.41 7.96l-1.37-1.37c-.4-.4-.92-.59-1.43-.59-.52 0-1.04.2-1.43.59L10.3 9.45l-7.72 7.72c-.78.78-.78 2.05 0 2.83L4 21.41c.39.39.9.59 1.41.59.51 0 1.02-.2 1.41-.59l7.78-7.78 2.81-2.81c.8-.78.8-2.07 0-2.86zM5.41 20L4 18.59l7.72-7.72 1.47 1.35L5.41 20z\"/>\n",
              "  </svg>\n",
              "      </button>\n",
              "      \n",
              "  <style>\n",
              "    .colab-df-container {\n",
              "      display:flex;\n",
              "      flex-wrap:wrap;\n",
              "      gap: 12px;\n",
              "    }\n",
              "\n",
              "    .colab-df-convert {\n",
              "      background-color: #E8F0FE;\n",
              "      border: none;\n",
              "      border-radius: 50%;\n",
              "      cursor: pointer;\n",
              "      display: none;\n",
              "      fill: #1967D2;\n",
              "      height: 32px;\n",
              "      padding: 0 0 0 0;\n",
              "      width: 32px;\n",
              "    }\n",
              "\n",
              "    .colab-df-convert:hover {\n",
              "      background-color: #E2EBFA;\n",
              "      box-shadow: 0px 1px 2px rgba(60, 64, 67, 0.3), 0px 1px 3px 1px rgba(60, 64, 67, 0.15);\n",
              "      fill: #174EA6;\n",
              "    }\n",
              "\n",
              "    [theme=dark] .colab-df-convert {\n",
              "      background-color: #3B4455;\n",
              "      fill: #D2E3FC;\n",
              "    }\n",
              "\n",
              "    [theme=dark] .colab-df-convert:hover {\n",
              "      background-color: #434B5C;\n",
              "      box-shadow: 0px 1px 3px 1px rgba(0, 0, 0, 0.15);\n",
              "      filter: drop-shadow(0px 1px 2px rgba(0, 0, 0, 0.3));\n",
              "      fill: #FFFFFF;\n",
              "    }\n",
              "  </style>\n",
              "\n",
              "      <script>\n",
              "        const buttonEl =\n",
              "          document.querySelector('#df-82030e25-e78c-4a1f-860b-a215a4a73f25 button.colab-df-convert');\n",
              "        buttonEl.style.display =\n",
              "          google.colab.kernel.accessAllowed ? 'block' : 'none';\n",
              "\n",
              "        async function convertToInteractive(key) {\n",
              "          const element = document.querySelector('#df-82030e25-e78c-4a1f-860b-a215a4a73f25');\n",
              "          const dataTable =\n",
              "            await google.colab.kernel.invokeFunction('convertToInteractive',\n",
              "                                                     [key], {});\n",
              "          if (!dataTable) return;\n",
              "\n",
              "          const docLinkHtml = 'Like what you see? Visit the ' +\n",
              "            '<a target=\"_blank\" href=https://colab.research.google.com/notebooks/data_table.ipynb>data table notebook</a>'\n",
              "            + ' to learn more about interactive tables.';\n",
              "          element.innerHTML = '';\n",
              "          dataTable['output_type'] = 'display_data';\n",
              "          await google.colab.output.renderOutput(dataTable, element);\n",
              "          const docLink = document.createElement('div');\n",
              "          docLink.innerHTML = docLinkHtml;\n",
              "          element.appendChild(docLink);\n",
              "        }\n",
              "      </script>\n",
              "    </div>\n",
              "  </div>\n",
              "  "
            ],
            "application/vnd.google.colaboratory.module+javascript": "\n      import \"https://ssl.gstatic.com/colaboratory/data_table/a8bd4d5e58f96183/data_table.js\";\n\n      window.createDataTable({\n        data: [[{\n            'v': 978,\n            'f': \"978\",\n        },\n\"Has he received any awards?\",\n\"Did he win any awards for his music?\"],\n [{\n            'v': 3710,\n            'f': \"3710\",\n        },\n\"Why did Hamilton leave the group?\",\n\"Why did the group take an extended break?\"],\n [{\n            'v': 5796,\n            'f': \"5796\",\n        },\n\"Did the other members continue with their music careers?\",\n\"What was the name of the band formed in 1995?\"],\n [{\n            'v': 1487,\n            'f': \"1487\",\n        },\n\"Were these songs popular?\",\n\"How did the single do on the charts?\"],\n [{\n            'v': 1728,\n            'f': \"1728\",\n        },\n\"What happened after the conversion?\",\n\"What restrictions did the Roman Catholic Relief Act of 1829 impose?\"],\n [{\n            'v': 2181,\n            'f': \"2181\",\n        },\n\"Besides that, were there other projects in the US?\",\n\"Did she do anything else in 1980?\"],\n [{\n            'v': 3608,\n            'f': \"3608\",\n        },\n\"Which of their albums did the best with fans?\",\n\"Did the album win any awards?\"],\n [{\n            'v': 5219,\n            'f': \"5219\",\n        },\n\"what did he do in england?\",\n\"How much did the king pay for the house he lived in?\"],\n [{\n            'v': 5186,\n            'f': \"5186\",\n        },\n\"What is something interesting about his life?\",\n\"Where was Robert Fripp born?\"],\n [{\n            'v': 2369,\n            'f': \"2369\",\n        },\n\"What happened with the July budget in 2015?\",\n\"Are there any other interesting aspects about this article?\"],\n [{\n            'v': 3102,\n            'f': \"3102\",\n        },\n\"What other bands did they inspire?\",\n\"Are there any other interesting aspects about this article?\"],\n [{\n            'v': 2004,\n            'f': \"2004\",\n        },\n\"What is stella and charlie friends forever about?\",\n\"what is stella and charlie friends forever about\"],\n [{\n            'v': 45,\n            'f': \"45\",\n        },\n\"What was one of Ngo Dinh Diem's most famous socio-economic policies?\",\n\"What did Diem do during his presidency?\"],\n [{\n            'v': 5390,\n            'f': \"5390\",\n        },\n\"Were there other claims or comments made about this case?\",\n\"What did Vikernes say about the church burnings?\"],\n [{\n            'v': 2009,\n            'f': \"2009\",\n        },\n\"What was significant about this?\",\n\"What was the Irish National Theatre Society?\"],\n [{\n            'v': 5375,\n            'f': \"5375\",\n        },\n\"What happen in 1985\",\n\"When did Guns N Roses form?\"],\n [{\n            'v': 5017,\n            'f': \"5017\",\n        },\n\"When did she begin on the Cosby show?\",\n\"How old was Raven-Symone when she auditioned for Ghost Dad?\"],\n [{\n            'v': 4485,\n            'f': \"4485\",\n        },\n\"When did he join the Portland Trailblazers ?\",\n\"when did leonard walton join the trailblazers\"],\n [{\n            'v': 5185,\n            'f': \"5185\",\n        },\n\"what was the change?\",\n\"When did the term indigenous begin to be used?\"],\n [{\n            'v': 5033,\n            'f': \"5033\",\n        },\n\"Are there any other interesting aspects about this article?\",\n\"Are there any other interesting aspects about this article?\"]],\n        columns: [[\"number\", \"index\"], [\"string\", \"target\"], [\"string\", \"prediction\"]],\n        columnOptions: [{\"width\": \"1px\", \"className\": \"index_column\"}],\n        rowsPerPage: 25,\n        helpUrl: \"https://colab.research.google.com/notebooks/data_table.ipynb\",\n        suppressOutputScrolling: true,\n        minimumWidth: undefined,\n      });\n    "
          },
          "metadata": {},
          "execution_count": 46
        }
      ]
    },
    {
      "cell_type": "code",
      "source": [
        "df_2"
      ],
      "metadata": {
        "id": "AEUhUPu0060l",
        "outputId": "40d09818-a262-4647-88e2-cd7ba649d3e7",
        "colab": {
          "base_uri": "https://localhost:8080/",
          "height": 520
        }
      },
      "execution_count": 47,
      "outputs": [
        {
          "output_type": "execute_result",
          "data": {
            "text/plain": [
              "                                                 target  \\\n",
              "978                         Has he received any awards?   \n",
              "3710                  Why did Hamilton leave the group?   \n",
              "5796  Did the other members continue with their musi...   \n",
              "1487                          Were these songs popular?   \n",
              "1728                What happened after the conversion?   \n",
              "2181  Besides that, were there other projects in the...   \n",
              "3608      Which of their albums did the best with fans?   \n",
              "5219                         what did he do in england?   \n",
              "5186      What is something interesting about his life?   \n",
              "2369        What happened with the July budget in 2015?   \n",
              "3102                 What other bands did they inspire?   \n",
              "2004  What is stella and charlie friends forever about?   \n",
              "45    What was one of Ngo Dinh Diem's most famous so...   \n",
              "5390  Were there other claims or comments made about...   \n",
              "2009                   What was significant about this?   \n",
              "5375                                What happen in 1985   \n",
              "5017              When did she begin on the Cosby show?   \n",
              "4485       When did he join the Portland Trailblazers ?   \n",
              "5185                               what was the change?   \n",
              "5033  Are there any other interesting aspects about ...   \n",
              "\n",
              "                                             prediction  \n",
              "978                Did he win any awards for his music?  \n",
              "3710          Why did the group take an extended break?  \n",
              "5796      What was the name of the band formed in 1995?  \n",
              "1487               How did the single do on the charts?  \n",
              "1728  What restrictions did the Roman Catholic Relie...  \n",
              "2181                  Did she do anything else in 1980?  \n",
              "3608                      Did the album win any awards?  \n",
              "5219  How much did the king pay for the house he liv...  \n",
              "5186                       Where was Robert Fripp born?  \n",
              "2369  Are there any other interesting aspects about ...  \n",
              "3102  Are there any other interesting aspects about ...  \n",
              "2004   what is stella and charlie friends forever about  \n",
              "45              What did Diem do during his presidency?  \n",
              "5390   What did Vikernes say about the church burnings?  \n",
              "2009       What was the Irish National Theatre Society?  \n",
              "5375                        When did Guns N Roses form?  \n",
              "5017  How old was Raven-Symone when she auditioned f...  \n",
              "4485      when did leonard walton join the trailblazers  \n",
              "5185     When did the term indigenous begin to be used?  \n",
              "5033  Are there any other interesting aspects about ...  "
            ],
            "text/html": [
              "\n",
              "  <div id=\"df-feeea9a9-79f6-4b83-a771-fb431962a3d1\">\n",
              "    <div class=\"colab-df-container\">\n",
              "      <div>\n",
              "<style scoped>\n",
              "    .dataframe tbody tr th:only-of-type {\n",
              "        vertical-align: middle;\n",
              "    }\n",
              "\n",
              "    .dataframe tbody tr th {\n",
              "        vertical-align: top;\n",
              "    }\n",
              "\n",
              "    .dataframe thead th {\n",
              "        text-align: right;\n",
              "    }\n",
              "</style>\n",
              "<table border=\"1\" class=\"dataframe\">\n",
              "  <thead>\n",
              "    <tr style=\"text-align: right;\">\n",
              "      <th></th>\n",
              "      <th>target</th>\n",
              "      <th>prediction</th>\n",
              "    </tr>\n",
              "  </thead>\n",
              "  <tbody>\n",
              "    <tr>\n",
              "      <th>978</th>\n",
              "      <td>Has he received any awards?</td>\n",
              "      <td>Did he win any awards for his music?</td>\n",
              "    </tr>\n",
              "    <tr>\n",
              "      <th>3710</th>\n",
              "      <td>Why did Hamilton leave the group?</td>\n",
              "      <td>Why did the group take an extended break?</td>\n",
              "    </tr>\n",
              "    <tr>\n",
              "      <th>5796</th>\n",
              "      <td>Did the other members continue with their musi...</td>\n",
              "      <td>What was the name of the band formed in 1995?</td>\n",
              "    </tr>\n",
              "    <tr>\n",
              "      <th>1487</th>\n",
              "      <td>Were these songs popular?</td>\n",
              "      <td>How did the single do on the charts?</td>\n",
              "    </tr>\n",
              "    <tr>\n",
              "      <th>1728</th>\n",
              "      <td>What happened after the conversion?</td>\n",
              "      <td>What restrictions did the Roman Catholic Relie...</td>\n",
              "    </tr>\n",
              "    <tr>\n",
              "      <th>2181</th>\n",
              "      <td>Besides that, were there other projects in the...</td>\n",
              "      <td>Did she do anything else in 1980?</td>\n",
              "    </tr>\n",
              "    <tr>\n",
              "      <th>3608</th>\n",
              "      <td>Which of their albums did the best with fans?</td>\n",
              "      <td>Did the album win any awards?</td>\n",
              "    </tr>\n",
              "    <tr>\n",
              "      <th>5219</th>\n",
              "      <td>what did he do in england?</td>\n",
              "      <td>How much did the king pay for the house he liv...</td>\n",
              "    </tr>\n",
              "    <tr>\n",
              "      <th>5186</th>\n",
              "      <td>What is something interesting about his life?</td>\n",
              "      <td>Where was Robert Fripp born?</td>\n",
              "    </tr>\n",
              "    <tr>\n",
              "      <th>2369</th>\n",
              "      <td>What happened with the July budget in 2015?</td>\n",
              "      <td>Are there any other interesting aspects about ...</td>\n",
              "    </tr>\n",
              "    <tr>\n",
              "      <th>3102</th>\n",
              "      <td>What other bands did they inspire?</td>\n",
              "      <td>Are there any other interesting aspects about ...</td>\n",
              "    </tr>\n",
              "    <tr>\n",
              "      <th>2004</th>\n",
              "      <td>What is stella and charlie friends forever about?</td>\n",
              "      <td>what is stella and charlie friends forever about</td>\n",
              "    </tr>\n",
              "    <tr>\n",
              "      <th>45</th>\n",
              "      <td>What was one of Ngo Dinh Diem's most famous so...</td>\n",
              "      <td>What did Diem do during his presidency?</td>\n",
              "    </tr>\n",
              "    <tr>\n",
              "      <th>5390</th>\n",
              "      <td>Were there other claims or comments made about...</td>\n",
              "      <td>What did Vikernes say about the church burnings?</td>\n",
              "    </tr>\n",
              "    <tr>\n",
              "      <th>2009</th>\n",
              "      <td>What was significant about this?</td>\n",
              "      <td>What was the Irish National Theatre Society?</td>\n",
              "    </tr>\n",
              "    <tr>\n",
              "      <th>5375</th>\n",
              "      <td>What happen in 1985</td>\n",
              "      <td>When did Guns N Roses form?</td>\n",
              "    </tr>\n",
              "    <tr>\n",
              "      <th>5017</th>\n",
              "      <td>When did she begin on the Cosby show?</td>\n",
              "      <td>How old was Raven-Symone when she auditioned f...</td>\n",
              "    </tr>\n",
              "    <tr>\n",
              "      <th>4485</th>\n",
              "      <td>When did he join the Portland Trailblazers ?</td>\n",
              "      <td>when did leonard walton join the trailblazers</td>\n",
              "    </tr>\n",
              "    <tr>\n",
              "      <th>5185</th>\n",
              "      <td>what was the change?</td>\n",
              "      <td>When did the term indigenous begin to be used?</td>\n",
              "    </tr>\n",
              "    <tr>\n",
              "      <th>5033</th>\n",
              "      <td>Are there any other interesting aspects about ...</td>\n",
              "      <td>Are there any other interesting aspects about ...</td>\n",
              "    </tr>\n",
              "  </tbody>\n",
              "</table>\n",
              "</div>\n",
              "      <button class=\"colab-df-convert\" onclick=\"convertToInteractive('df-feeea9a9-79f6-4b83-a771-fb431962a3d1')\"\n",
              "              title=\"Convert this dataframe to an interactive table.\"\n",
              "              style=\"display:none;\">\n",
              "        \n",
              "  <svg xmlns=\"http://www.w3.org/2000/svg\" height=\"24px\"viewBox=\"0 0 24 24\"\n",
              "       width=\"24px\">\n",
              "    <path d=\"M0 0h24v24H0V0z\" fill=\"none\"/>\n",
              "    <path d=\"M18.56 5.44l.94 2.06.94-2.06 2.06-.94-2.06-.94-.94-2.06-.94 2.06-2.06.94zm-11 1L8.5 8.5l.94-2.06 2.06-.94-2.06-.94L8.5 2.5l-.94 2.06-2.06.94zm10 10l.94 2.06.94-2.06 2.06-.94-2.06-.94-.94-2.06-.94 2.06-2.06.94z\"/><path d=\"M17.41 7.96l-1.37-1.37c-.4-.4-.92-.59-1.43-.59-.52 0-1.04.2-1.43.59L10.3 9.45l-7.72 7.72c-.78.78-.78 2.05 0 2.83L4 21.41c.39.39.9.59 1.41.59.51 0 1.02-.2 1.41-.59l7.78-7.78 2.81-2.81c.8-.78.8-2.07 0-2.86zM5.41 20L4 18.59l7.72-7.72 1.47 1.35L5.41 20z\"/>\n",
              "  </svg>\n",
              "      </button>\n",
              "      \n",
              "  <style>\n",
              "    .colab-df-container {\n",
              "      display:flex;\n",
              "      flex-wrap:wrap;\n",
              "      gap: 12px;\n",
              "    }\n",
              "\n",
              "    .colab-df-convert {\n",
              "      background-color: #E8F0FE;\n",
              "      border: none;\n",
              "      border-radius: 50%;\n",
              "      cursor: pointer;\n",
              "      display: none;\n",
              "      fill: #1967D2;\n",
              "      height: 32px;\n",
              "      padding: 0 0 0 0;\n",
              "      width: 32px;\n",
              "    }\n",
              "\n",
              "    .colab-df-convert:hover {\n",
              "      background-color: #E2EBFA;\n",
              "      box-shadow: 0px 1px 2px rgba(60, 64, 67, 0.3), 0px 1px 3px 1px rgba(60, 64, 67, 0.15);\n",
              "      fill: #174EA6;\n",
              "    }\n",
              "\n",
              "    [theme=dark] .colab-df-convert {\n",
              "      background-color: #3B4455;\n",
              "      fill: #D2E3FC;\n",
              "    }\n",
              "\n",
              "    [theme=dark] .colab-df-convert:hover {\n",
              "      background-color: #434B5C;\n",
              "      box-shadow: 0px 1px 3px 1px rgba(0, 0, 0, 0.15);\n",
              "      filter: drop-shadow(0px 1px 2px rgba(0, 0, 0, 0.3));\n",
              "      fill: #FFFFFF;\n",
              "    }\n",
              "  </style>\n",
              "\n",
              "      <script>\n",
              "        const buttonEl =\n",
              "          document.querySelector('#df-feeea9a9-79f6-4b83-a771-fb431962a3d1 button.colab-df-convert');\n",
              "        buttonEl.style.display =\n",
              "          google.colab.kernel.accessAllowed ? 'block' : 'none';\n",
              "\n",
              "        async function convertToInteractive(key) {\n",
              "          const element = document.querySelector('#df-feeea9a9-79f6-4b83-a771-fb431962a3d1');\n",
              "          const dataTable =\n",
              "            await google.colab.kernel.invokeFunction('convertToInteractive',\n",
              "                                                     [key], {});\n",
              "          if (!dataTable) return;\n",
              "\n",
              "          const docLinkHtml = 'Like what you see? Visit the ' +\n",
              "            '<a target=\"_blank\" href=https://colab.research.google.com/notebooks/data_table.ipynb>data table notebook</a>'\n",
              "            + ' to learn more about interactive tables.';\n",
              "          element.innerHTML = '';\n",
              "          dataTable['output_type'] = 'display_data';\n",
              "          await google.colab.output.renderOutput(dataTable, element);\n",
              "          const docLink = document.createElement('div');\n",
              "          docLink.innerHTML = docLinkHtml;\n",
              "          element.appendChild(docLink);\n",
              "        }\n",
              "      </script>\n",
              "    </div>\n",
              "  </div>\n",
              "  "
            ],
            "application/vnd.google.colaboratory.module+javascript": "\n      import \"https://ssl.gstatic.com/colaboratory/data_table/a8bd4d5e58f96183/data_table.js\";\n\n      window.createDataTable({\n        data: [[{\n            'v': 978,\n            'f': \"978\",\n        },\n\"Has he received any awards?\",\n\"Did he win any awards for his music?\"],\n [{\n            'v': 3710,\n            'f': \"3710\",\n        },\n\"Why did Hamilton leave the group?\",\n\"Why did the group take an extended break?\"],\n [{\n            'v': 5796,\n            'f': \"5796\",\n        },\n\"Did the other members continue with their music careers?\",\n\"What was the name of the band formed in 1995?\"],\n [{\n            'v': 1487,\n            'f': \"1487\",\n        },\n\"Were these songs popular?\",\n\"How did the single do on the charts?\"],\n [{\n            'v': 1728,\n            'f': \"1728\",\n        },\n\"What happened after the conversion?\",\n\"What restrictions did the Roman Catholic Relief Act of 1829 impose?\"],\n [{\n            'v': 2181,\n            'f': \"2181\",\n        },\n\"Besides that, were there other projects in the US?\",\n\"Did she do anything else in 1980?\"],\n [{\n            'v': 3608,\n            'f': \"3608\",\n        },\n\"Which of their albums did the best with fans?\",\n\"Did the album win any awards?\"],\n [{\n            'v': 5219,\n            'f': \"5219\",\n        },\n\"what did he do in england?\",\n\"How much did the king pay for the house he lived in?\"],\n [{\n            'v': 5186,\n            'f': \"5186\",\n        },\n\"What is something interesting about his life?\",\n\"Where was Robert Fripp born?\"],\n [{\n            'v': 2369,\n            'f': \"2369\",\n        },\n\"What happened with the July budget in 2015?\",\n\"Are there any other interesting aspects about this article?\"],\n [{\n            'v': 3102,\n            'f': \"3102\",\n        },\n\"What other bands did they inspire?\",\n\"Are there any other interesting aspects about this article?\"],\n [{\n            'v': 2004,\n            'f': \"2004\",\n        },\n\"What is stella and charlie friends forever about?\",\n\"what is stella and charlie friends forever about\"],\n [{\n            'v': 45,\n            'f': \"45\",\n        },\n\"What was one of Ngo Dinh Diem's most famous socio-economic policies?\",\n\"What did Diem do during his presidency?\"],\n [{\n            'v': 5390,\n            'f': \"5390\",\n        },\n\"Were there other claims or comments made about this case?\",\n\"What did Vikernes say about the church burnings?\"],\n [{\n            'v': 2009,\n            'f': \"2009\",\n        },\n\"What was significant about this?\",\n\"What was the Irish National Theatre Society?\"],\n [{\n            'v': 5375,\n            'f': \"5375\",\n        },\n\"What happen in 1985\",\n\"When did Guns N Roses form?\"],\n [{\n            'v': 5017,\n            'f': \"5017\",\n        },\n\"When did she begin on the Cosby show?\",\n\"How old was Raven-Symone when she auditioned for Ghost Dad?\"],\n [{\n            'v': 4485,\n            'f': \"4485\",\n        },\n\"When did he join the Portland Trailblazers ?\",\n\"when did leonard walton join the trailblazers\"],\n [{\n            'v': 5185,\n            'f': \"5185\",\n        },\n\"what was the change?\",\n\"When did the term indigenous begin to be used?\"],\n [{\n            'v': 5033,\n            'f': \"5033\",\n        },\n\"Are there any other interesting aspects about this article?\",\n\"Are there any other interesting aspects about this article?\"]],\n        columns: [[\"number\", \"index\"], [\"string\", \"target\"], [\"string\", \"prediction\"]],\n        columnOptions: [{\"width\": \"1px\", \"className\": \"index_column\"}],\n        rowsPerPage: 25,\n        helpUrl: \"https://colab.research.google.com/notebooks/data_table.ipynb\",\n        suppressOutputScrolling: true,\n        minimumWidth: undefined,\n      });\n    "
          },
          "metadata": {},
          "execution_count": 47
        }
      ]
    },
    {
      "cell_type": "code",
      "source": [],
      "metadata": {
        "id": "lvi0lX1008cf"
      },
      "execution_count": null,
      "outputs": []
    }
  ],
  "metadata": {
    "colab": {
      "collapsed_sections": [],
      "provenance": [],
      "include_colab_link": true
    },
    "gpuClass": "premium",
    "kernelspec": {
      "display_name": "Python 3 (ipykernel)",
      "language": "python",
      "name": "python3"
    },
    "language_info": {
      "codemirror_mode": {
        "name": "ipython",
        "version": 3
      },
      "file_extension": ".py",
      "mimetype": "text/x-python",
      "name": "python",
      "nbconvert_exporter": "python",
      "pygments_lexer": "ipython3",
      "version": "3.9.12"
    }
  },
  "nbformat": 4,
  "nbformat_minor": 0
}